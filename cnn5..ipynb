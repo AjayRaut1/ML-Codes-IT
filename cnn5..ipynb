{
 "cells": [
  {
   "cell_type": "code",
   "execution_count": 1,
   "id": "8a018f0d-fd05-4e20-b991-2f7c0bc25725",
   "metadata": {},
   "outputs": [],
   "source": [
    "import tensorflow as tf\n",
    "import matplotlib.pyplot as plt\n",
    "from tensorflow.keras.applications import VGG16\n",
    "from tensorflow.keras.layers import Dense, Flatten, Dropout\n",
    "from tensorflow.keras.models import Model"
   ]
  },
  {
   "cell_type": "code",
   "execution_count": 2,
   "id": "2fa34dfc-e60f-4e09-8156-b3bd49ddff7f",
   "metadata": {},
   "outputs": [],
   "source": [
    "# Load CIFAR-10 dataset and preprocess\n",
    "(x_train, y_train), (x_test, y_test) = tf.keras.datasets.cifar10.load_data()\n",
    "x_train, x_test = tf.image.resize(x_train / 255.0, (64, 64)), tf.image.resize(x_test / 255.0, (64, 64))"
   ]
  },
  {
   "cell_type": "code",
   "execution_count": 3,
   "id": "570bc762-9b02-4eb1-95cf-1d2de54d1b1b",
   "metadata": {},
   "outputs": [
    {
     "name": "stdout",
     "output_type": "stream",
     "text": [
      "Downloading data from https://storage.googleapis.com/tensorflow/keras-applications/vgg16/vgg16_weights_tf_dim_ordering_tf_kernels_notop.h5\n",
      "\u001b[1m58889256/58889256\u001b[0m \u001b[32m━━━━━━━━━━━━━━━━━━━━\u001b[0m\u001b[37m\u001b[0m \u001b[1m19s\u001b[0m 0us/step\n"
     ]
    }
   ],
   "source": [
    "# Load pre-trained VGG16 model, freeze base layers\n",
    "base_model = VGG16(weights='imagenet', include_top=False, input_shape=(64, 64, 3))\n",
    "for layer in base_model.layers: layer.trainable = False\n"
   ]
  },
  {
   "cell_type": "code",
   "execution_count": 4,
   "id": "ed420293-3cb7-4985-a42f-1d1b07bfb939",
   "metadata": {},
   "outputs": [],
   "source": [
    "# Add custom classifier\n",
    "x = Flatten()(base_model.output)\n",
    "x = Dense(64, activation='relu')(x)\n",
    "x = Dropout(0.5)(x)\n",
    "x = Dense(10, activation='softmax')(x)"
   ]
  },
  {
   "cell_type": "code",
   "execution_count": 5,
   "id": "df1b6df1-a038-410b-b9c3-f87b9e5d189f",
   "metadata": {},
   "outputs": [],
   "source": [
    "# Create and compile model\n",
    "model = Model(inputs=base_model.input, outputs=x)\n",
    "model.compile(optimizer='adam', loss='sparse_categorical_crossentropy', metrics=['accuracy'])\n"
   ]
  },
  {
   "cell_type": "code",
   "execution_count": null,
   "id": "7b91ead4-e7fa-45d3-8f0f-a7300c0135b2",
   "metadata": {},
   "outputs": [
    {
     "name": "stdout",
     "output_type": "stream",
     "text": [
      "Epoch 1/5\n",
      "\u001b[1m782/782\u001b[0m \u001b[32m━━━━━━━━━━━━━━━━━━━━\u001b[0m\u001b[37m\u001b[0m \u001b[1m425s\u001b[0m 541ms/step - accuracy: 0.3801 - loss: 1.7561 - val_accuracy: 0.6180 - val_loss: 1.1420\n",
      "Epoch 2/5\n",
      "\u001b[1m782/782\u001b[0m \u001b[32m━━━━━━━━━━━━━━━━━━━━\u001b[0m\u001b[37m\u001b[0m \u001b[1m445s\u001b[0m 570ms/step - accuracy: 0.5410 - loss: 1.3160 - val_accuracy: 0.6343 - val_loss: 1.0867\n",
      "Epoch 3/5\n",
      "\u001b[1m 28/782\u001b[0m \u001b[37m━━━━━━━━━━━━━━━━━━━━\u001b[0m \u001b[1m5:52\u001b[0m 468ms/step - accuracy: 0.5653 - loss: 1.2770"
     ]
    }
   ],
   "source": [
    "# Train and evaluate model\n",
    "model.fit(x_train, y_train, epochs=5, validation_data=(x_test, y_test), batch_size=64)\n",
    "test_acc = model.evaluate(x_test, y_test, verbose=0)[1]\n"
   ]
  },
  {
   "cell_type": "code",
   "execution_count": null,
   "id": "7009d203-428b-464b-bfe1-c61ccf899dfa",
   "metadata": {},
   "outputs": [],
   "source": [
    "# Predict and visualize results\n",
    "predictions = model.predict(x_test)\n",
    "plt.imshow(x_test[10])\n",
    "plt.title(f\"Pred: {predictions[10].argmax()}, Actual: {y_test[10][0]}\")\n",
    "plt.show()\n"
   ]
  },
  {
   "cell_type": "code",
   "execution_count": null,
   "id": "104e6584-ab17-403f-a901-ba91880f68ff",
   "metadata": {},
   "outputs": [],
   "source": [
    "print(f'Test accuracy: {test_acc * 100:.2f}%')\n"
   ]
  },
  {
   "cell_type": "code",
   "execution_count": null,
   "id": "d946cb7e-9b6c-4991-9087-2dee712fe3e2",
   "metadata": {},
   "outputs": [],
   "source": []
  }
 ],
 "metadata": {
  "kernelspec": {
   "display_name": "Python 3 (ipykernel)",
   "language": "python",
   "name": "python3"
  },
  "language_info": {
   "codemirror_mode": {
    "name": "ipython",
    "version": 3
   },
   "file_extension": ".py",
   "mimetype": "text/x-python",
   "name": "python",
   "nbconvert_exporter": "python",
   "pygments_lexer": "ipython3",
   "version": "3.11.7"
  }
 },
 "nbformat": 4,
 "nbformat_minor": 5
}
